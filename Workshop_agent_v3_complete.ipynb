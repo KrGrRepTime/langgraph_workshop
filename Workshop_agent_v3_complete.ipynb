{
 "cells": [
  {
   "cell_type": "markdown",
   "id": "4f9f4220",
   "metadata": {},
   "source": [
    "# LangGraph Agent v3 — Complete (Analyze → Search → Enrich → Process)\n",
    "\n",
    "Final, self-contained agent with LLM decision to enrich or process.\n",
    "\n",
    "Quick guide:\n",
    "- State: messages, search_results, optimized_query, decision\n",
    "- Flow: analyze → search → decide → (enrich | process) → process → END\n",
    "- Observe prints: [ANALYZE], [SEARCH], [DECIDE], [ROUTE], [ENRICH], [PROCESS], [END]\n",
    "- The decision is persisted in state.decision and printed after run"
   ]
  },
  {
   "cell_type": "code",
   "execution_count": 35,
   "id": "d4c9b796",
   "metadata": {},
   "outputs": [
    {
     "data": {
      "text/plain": [
       "True"
      ]
     },
     "execution_count": 35,
     "metadata": {},
     "output_type": "execute_result"
    }
   ],
   "source": [
    "import os\n",
    "from typing import List, Optional, Union, Literal\n",
    "from dotenv import load_dotenv\n",
    "from pydantic import BaseModel, Field\n",
    "\n",
    "from langgraph.graph import StateGraph, END\n",
    "\n",
    "from langchain_core.messages import HumanMessage, SystemMessage, AIMessage\n",
    "from langchain_core.prompts import ChatPromptTemplate\n",
    "from langchain_google_genai import ChatGoogleGenerativeAI\n",
    "\n",
    "from langchain_community.utilities import GoogleSearchAPIWrapper\n",
    "from langchain_community.document_loaders import WebBaseLoader\n",
    "\n",
    "load_dotenv()"
   ]
  },
  {
   "cell_type": "code",
   "execution_count": 36,
   "id": "35cdc506",
   "metadata": {},
   "outputs": [],
   "source": [
    "class SearchResult(BaseModel):\n",
    "    id: int\n",
    "    title: str\n",
    "    snippet: str\n",
    "    link: str\n",
    "    full_content: Optional[str] = None\n",
    "\n",
    "class AgentState(BaseModel):\n",
    "    messages: List[Union[HumanMessage, AIMessage, SystemMessage]] = Field(description=\"Chat history\")\n",
    "    search_results: List[SearchResult] = Field(default_factory=list)\n",
    "    optimized_query: Optional[str] = None\n",
    "    decision: Optional[Literal['enrich','process']] = None\n",
    "\n",
    "    class Config:\n",
    "        arbitrary_types_allowed = True"
   ]
  },
  {
   "cell_type": "code",
   "execution_count": 37,
   "id": "f3b0dfae",
   "metadata": {},
   "outputs": [],
   "source": [
    "llm = ChatGoogleGenerativeAI(model=\"gemini-2.0-flash\", temperature=0.7)\n",
    "search_engine = GoogleSearchAPIWrapper(k=3)"
   ]
  },
  {
   "cell_type": "code",
   "execution_count": 38,
   "id": "9f91f476",
   "metadata": {},
   "outputs": [],
   "source": [
    "def analyze_query(state: AgentState):\n",
    "    print(\"[ANALYZE] Optimizing user query…\")\n",
    "    user_query = next((m.content for m in reversed(state.messages) if isinstance(m, HumanMessage)), \"\")\n",
    "    prompt = ChatPromptTemplate.from_messages([\n",
    "        (\"system\", \"You optimize search queries. Return ONLY the optimized query.\"),\n",
    "        (\"human\", \"Optimize: {q}\")\n",
    "    ])\n",
    "    q = llm.invoke(prompt.format_messages(q=user_query)).content.strip().replace('\"','')\n",
    "    return {\"optimized_query\": q}"
   ]
  },
  {
   "cell_type": "code",
   "execution_count": 39,
   "id": "644de896",
   "metadata": {},
   "outputs": [],
   "source": [
    "def perform_search(state: AgentState):\n",
    "    print(\"[SEARCH] Running web search…\")\n",
    "    query = state.optimized_query or next((m.content for m in reversed(state.messages) if isinstance(m, HumanMessage)), \"\")\n",
    "    try:\n",
    "        raw = search_engine.results(query, num_results=5)\n",
    "    except Exception:\n",
    "        raw = [{\"title\":\"Search unavailable\",\"snippet\":f\"Could not search: {query}\",\"link\":\"https://example.com\"}]\n",
    "    results = [SearchResult(id=i+1,\n",
    "                            title=r.get('title','No title'),\n",
    "                            snippet=r.get('snippet', r.get('description','No content')),\n",
    "                            link=r.get('link', r.get('url','No link')))\n",
    "               for i, r in enumerate(raw)]\n",
    "    return {\"search_results\": results}"
   ]
  },
  {
   "cell_type": "code",
   "execution_count": 40,
   "id": "911c0ed8",
   "metadata": {},
   "outputs": [],
   "source": [
    "def fetch_full_content(url: str, max_length: int = 8000) -> str:\n",
    "    try:\n",
    "        docs = WebBaseLoader(web_paths=[url], header_template={\"User-Agent\":\"Mozilla/5.0\"}).load()\n",
    "        if docs and docs[0].page_content.strip():\n",
    "            t = docs[0].page_content\n",
    "            return t[:max_length] + ('…' if len(t) > max_length else '')\n",
    "        return '[Full content unavailable. Using snippet]'\n",
    "    except Exception as e:\n",
    "        return f'[Content unavailable: {e}]'"
   ]
  },
  {
   "cell_type": "code",
   "execution_count": 41,
   "id": "e0f2fa2a",
   "metadata": {},
   "outputs": [],
   "source": [
    "def enrich_content(state: AgentState):\n",
    "    print(\"[ENRICH] Fetching and extracting relevant page content…\")\n",
    "    if not state.search_results:\n",
    "        return {}\n",
    "    user_query = next((m.content for m in state.messages if isinstance(m, HumanMessage)), 'Unknown')\n",
    "    for r in state.search_results[:2]:\n",
    "        raw = fetch_full_content(r.link)\n",
    "        if raw.startswith('[Content unavailable'):\n",
    "            r.full_content = raw\n",
    "        else:\n",
    "            p = ChatPromptTemplate.from_messages([\n",
    "                (\"system\", \"Extract info relevant to the query; concise ≤800 words.\"),\n",
    "                (\"human\", \"Query: {q}\\nTitle: {t}\\nURL: {u}\\nContent:\\n{c}\")\n",
    "            ])\n",
    "            r.full_content = llm.invoke(p.format_messages(q=user_query, t=r.title, u=r.link, c=raw)).content.strip()\n",
    "    return {\"search_results\": state.search_results}"
   ]
  },
  {
   "cell_type": "code",
   "execution_count": 42,
   "id": "39db589a",
   "metadata": {},
   "outputs": [],
   "source": [
    "def process_results(state: AgentState):\n",
    "    print(\"[PROCESS] Synthesizing final answer…\")\n",
    "    user_query = next((m.content for m in state.messages if isinstance(m, HumanMessage)), 'Unknown')\n",
    "    if state.search_results:\n",
    "        blocks = []\n",
    "        for r in state.search_results:\n",
    "            snippet = r.snippet or ''\n",
    "            detail = (r.full_content[:250] + '…') if (r.full_content and len(r.full_content) > 250) else (r.full_content or '')\n",
    "            blocks.append(f\"Result {r.id} | {r.title}\\n{snippet}\\nSource: {r.link}\\n{detail}\")\n",
    "        res = '\\n'.join(blocks)\n",
    "    else:\n",
    "        res = 'No search results available.'\n",
    "    prompt = ChatPromptTemplate.from_messages([\n",
    "        ('system', 'Use the results to answer precisely with sources.'),\n",
    "        ('human', 'Query: {q}\\n\\nResults:\\n{res}')\n",
    "    ])\n",
    "    ans = llm.invoke(prompt.format_messages(q=user_query, res=res)).content.strip()\n",
    "    return {\"messages\": [AIMessage(content=ans)]}"
   ]
  },
  {
   "cell_type": "code",
   "execution_count": 43,
   "id": "4901f48f",
   "metadata": {},
   "outputs": [],
   "source": [
    "def route_to_search(state: AgentState) -> Literal['search']:\n",
    "    print(\"[ROUTE] analyze → search\")\n",
    "    return 'search'\n",
    "\n",
    "def decide_next(state: AgentState):\n",
    "    \"\"\"LLM-backed decision node that writes the decision into state.\"\"\"\n",
    "    print(\"[DECIDE] Choosing 'enrich' vs 'process'…\")\n",
    "    user_query = next((m.content for m in state.messages if isinstance(m, HumanMessage)), 'Unknown')\n",
    "    p = ChatPromptTemplate.from_messages([\n",
    "        ('system', \"Reply ONLY 'enrich' or 'process'. Reply 'process' ONLY if current snippets alone clearly and fully answer. Otherwise 'enrich'.\"),\n",
    "        ('human', 'Query: {q}\\nSnippets:\\n' + '\\n'.join([f'- {r.title}: {r.snippet}' for r in state.search_results[:3]]))\n",
    "    ])\n",
    "    try:\n",
    "        d = llm.invoke(p.format_messages(q=user_query)).content.strip().lower()\n",
    "        decision = 'process' if ('process' in d and 'enrich' not in d) else 'enrich'\n",
    "    except Exception:\n",
    "        decision = 'enrich'\n",
    "    print(f\"[DECIDE] Decision: {decision}\")\n",
    "    return {\"decision\": decision}\n",
    "\n",
    "def route_by_decision(state: AgentState) -> Literal['enrich','process']:\n",
    "    nxt = state.decision or 'enrich'\n",
    "    print(f\"[ROUTE] decide → {nxt}\")\n",
    "    return nxt\n",
    "\n",
    "def is_done(state: AgentState) -> Literal['end']:\n",
    "    print(\"[END] process → END\")\n",
    "    return 'end'"
   ]
  },
  {
   "cell_type": "code",
   "execution_count": null,
   "id": "9da4e8b1",
   "metadata": {},
   "outputs": [],
   "source": [
    "workflow = StateGraph(AgentState)\n",
    "\n",
    "\n",
    "complete_agent = workflow.compile()"
   ]
  },
  {
   "cell_type": "code",
   "execution_count": 45,
   "id": "da9d68bf",
   "metadata": {},
   "outputs": [
    {
     "name": "stdout",
     "output_type": "stream",
     "text": [
      "[ANALYZE] Optimizing user query…\n",
      "[ROUTE] analyze → search\n",
      "[SEARCH] Running web search…\n",
      "[ROUTE] analyze → search\n",
      "[SEARCH] Running web search…\n",
      "[DECIDE] Choosing 'enrich' vs 'process'…\n",
      "[DECIDE] Choosing 'enrich' vs 'process'…\n",
      "[DECIDE] Decision: enrich\n",
      "[ROUTE] decide → enrich\n",
      "[ENRICH] Fetching and extracting relevant page content…\n",
      "[DECIDE] Decision: enrich\n",
      "[ROUTE] decide → enrich\n",
      "[ENRICH] Fetching and extracting relevant page content…\n",
      "[PROCESS] Synthesizing final answer…\n",
      "[PROCESS] Synthesizing final answer…\n",
      "[END] process → END\n",
      "[END] process → END\n"
     ]
    }
   ],
   "source": [
    "# Test v3\n",
    "query = 'Who were in 2025 NBA playoffs?'\n",
    "state = AgentState(messages=[HumanMessage(content=query)])\n",
    "final_state = complete_agent.invoke(state)\n",
    "\n"
   ]
  },
  {
   "cell_type": "code",
   "execution_count": 46,
   "id": "b667f1dd",
   "metadata": {},
   "outputs": [
    {
     "name": "stdout",
     "output_type": "stream",
     "text": [
      "AI: Based on the search results, here are the teams mentioned as participants in the 2025 NBA Playoffs:\n",
      "\n",
      "*   Oklahoma City Thunder (NBA Champions) (Source: NBA.com, ESPN, Fox Sports)\n",
      "*   Indiana Pacers (Runners-up) (Source: NBA.com)\n",
      "*   Golden State Warriors (advanced from the Play-In Tournament) (Source: NBA.com, Fox Sports)\n",
      "*   Memphis Grizzlies (Source: NBA.com, ESPN, Fox Sports)\n",
      "*   Denver Nuggets (Source: ESPN)\n",
      "*   Los Angeles Clippers (Source: ESPN)\n",
      "*   Los Angeles Lakers (Source: ESPN)\n",
      "*   Houston Rockets (Source: Fox Sports)\n",
      "*   Cleveland Cavaliers (Source: NBA.com)\n",
      "*   Miami Heat (advanced from the Play-In Tournament) (Source: NBA.com)\n",
      "*   New York Knicks (Source: NBA.com)\n",
      "*   Detroit Pistons (Source: NBA.com)\n",
      "*   Milwaukee Bucks (Source: NBA.com)\n",
      "*   Orlando Magic (advanced from the Play-In Tournament) (Source: NBA.com)\n"
     ]
    }
   ],
   "source": [
    "for m in final_state['messages']:\n",
    "    if isinstance(m, HumanMessage):\n",
    "        print(f'Human: {m.content}')\n",
    "    elif isinstance(m, AIMessage):\n",
    "        print(f'AI: {m.content}')\n",
    "    else:\n",
    "        print(m)"
   ]
  },
  {
   "cell_type": "code",
   "execution_count": 47,
   "id": "a0a3a311",
   "metadata": {},
   "outputs": [
    {
     "data": {
      "text/plain": [
       "{'messages': [AIMessage(content='Based on the search results, here are the teams mentioned as participants in the 2025 NBA Playoffs:\\n\\n*   Oklahoma City Thunder (NBA Champions) (Source: NBA.com, ESPN, Fox Sports)\\n*   Indiana Pacers (Runners-up) (Source: NBA.com)\\n*   Golden State Warriors (advanced from the Play-In Tournament) (Source: NBA.com, Fox Sports)\\n*   Memphis Grizzlies (Source: NBA.com, ESPN, Fox Sports)\\n*   Denver Nuggets (Source: ESPN)\\n*   Los Angeles Clippers (Source: ESPN)\\n*   Los Angeles Lakers (Source: ESPN)\\n*   Houston Rockets (Source: Fox Sports)\\n*   Cleveland Cavaliers (Source: NBA.com)\\n*   Miami Heat (advanced from the Play-In Tournament) (Source: NBA.com)\\n*   New York Knicks (Source: NBA.com)\\n*   Detroit Pistons (Source: NBA.com)\\n*   Milwaukee Bucks (Source: NBA.com)\\n*   Orlando Magic (advanced from the Play-In Tournament) (Source: NBA.com)', additional_kwargs={}, response_metadata={})],\n",
       " 'search_results': [SearchResult(id=1, title='2025 NBA Playoffs | Home | NBA.com', snippet='The Warriors, Grizzlies, Magic and Heat advanced from the 2025 SoFi NBA Play-In Tournament. April 13, 2025 · 2025 NBA Playoffs: Full schedule and results\\xa0...', link='https://www.nba.com/playoffs/2025', full_content='Based on the provided content, here are the teams that participated in the 2025 NBA Playoffs:\\n\\n*   **Oklahoma City Thunder** (NBA Champions)\\n*   **Indiana Pacers** (Runners-up)\\n*   **Golden State Warriors** (advanced from the Play-In Tournament)\\n*   **Memphis Grizzlies** (advanced from the Play-In Tournament)\\n*   **Orlando Magic** (advanced from the Play-In Tournament)\\n*   **Miami Heat** (advanced from the Play-In Tournament)\\n*   **New York Knicks**'),\n",
       "  SearchResult(id=2, title='2024-25 NBA Playoffs Bracket - ESPN', snippet='Stats · Teams · Transactions ... If you or someone you know has a gambling problem and wants help, call 1-800-GAMBLER. Copyright: © 2025 ESPN Enterprises, Inc.', link='https://www.espn.com/nba/playoff-bracket', full_content='Based on the ESPN NBA Playoffs Bracket, here are the teams that participated in the 2024-25 NBA Playoffs:\\n\\n**Western Conference**\\n\\n*   Oklahoma City Thunder\\n*   Memphis Grizzlies\\n*   Denver Nuggets\\n*   Los Angeles Clippers\\n*   Los Angeles Lakers\\n*   Minnesota Timberwolves\\n*   Houston Rockets\\n*   Golden State Warriors\\n\\n**Eastern Conference**\\n\\n*   Cleveland Cavaliers\\n*   Miami Heat\\n*   New York Knicks\\n*   Boston Celtics\\n*   Indiana Pacers\\n*   Milwaukee Bucks\\n*   Detroit Pistons\\n*   Orlando Magic\\n\\n**NBA Finals**\\n\\n*   Oklahoma City Thunder\\n*   Indiana Pacers'),\n",
       "  SearchResult(id=3, title='2025 NBA Playoffs | Bracket | webview for app | NBA.com', snippet='1 Cavaliers 8 Heat CLE WINS ; 4 Pacers 5 Bucks IND WINS ; 3 Knicks 6 Pistons NYK WINS\\xa0...', link='https://www.nba.com/playoffs/2025/bracket', full_content=None),\n",
       "  SearchResult(id=4, title='2025 NBA playoff bracket: Updated schedule, scores | FOX Sports', snippet='Jun 23, 2025 ... First Round - West · (1) Oklahoma City Thunder vs. (8) Memphis Grizzlies - Thunder win 4-0 · (2) Houston Rockets vs. (7) Golden State Warriors -\\xa0...', link='https://www.foxsports.com/stories/nba/2025-nba-playoff-bracket-updated-schedule-scores', full_content=None),\n",
       "  SearchResult(id=5, title='Key dates for 2025-26 NBA season | NBA.com', snippet='> 2025-26 Season Dates · Aug. 27-Sept. · Sept. 5-6: Naismith Memorial Basketball Hall of Fame Class of 2025 Enshrinement Weekend · Sept. 23: Media days for teams\\xa0...', link='https://www.nba.com/news/key-dates', full_content=None)],\n",
       " 'optimized_query': 'NBA playoffs teams 2025',\n",
       " 'decision': 'enrich'}"
      ]
     },
     "execution_count": 47,
     "metadata": {},
     "output_type": "execute_result"
    }
   ],
   "source": [
    "final_state"
   ]
  }
 ],
 "metadata": {
  "kernelspec": {
   "display_name": "venv",
   "language": "python",
   "name": "python3"
  },
  "language_info": {
   "codemirror_mode": {
    "name": "ipython",
    "version": 3
   },
   "file_extension": ".py",
   "mimetype": "text/x-python",
   "name": "python",
   "nbconvert_exporter": "python",
   "pygments_lexer": "ipython3",
   "version": "3.12.4"
  }
 },
 "nbformat": 4,
 "nbformat_minor": 5
}
