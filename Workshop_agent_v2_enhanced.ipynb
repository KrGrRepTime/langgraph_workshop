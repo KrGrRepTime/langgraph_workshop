{
 "cells": [
  {
   "cell_type": "markdown",
   "id": "eb139160",
   "metadata": {},
   "source": [
    "# LangGraph Agent v2 — Search + Process\n",
    "\n",
    "Adds web search and synthesis (no enrichment step).\n",
    "\n",
    "Quick guide:\n",
    "- State: messages, search_results, optimized_query\n",
    "- Nodes: analyze → search → process → END\n",
    "- Observe prints: [ANALYZE], [SEARCH], [PROCESS]\n",
    "- Run the last cell to see a clean, single execution trace"
   ]
  },
  {
   "cell_type": "code",
   "execution_count": null,
   "id": "e0616ed7",
   "metadata": {},
   "outputs": [],
   "source": [
    "import os\n",
    "from typing import List, Optional, Union, Literal\n",
    "from dotenv import load_dotenv\n",
    "from pydantic import BaseModel, Field\n",
    "\n",
    "from langgraph.graph import StateGraph, END\n",
    "\n",
    "from langchain_core.messages import HumanMessage, SystemMessage, AIMessage\n",
    "from langchain_core.prompts import ChatPromptTemplate\n",
    "from langchain_google_genai import ChatGoogleGenerativeAI\n",
    "\n",
    "from langchain_community.utilities import GoogleSearchAPIWrapper\n",
    "\n",
    "load_dotenv()"
   ]
  },
  {
   "cell_type": "code",
   "execution_count": null,
   "id": "99a8caeb",
   "metadata": {},
   "outputs": [],
   "source": [
    "class SearchResult(BaseModel):\n",
    "    id: int\n",
    "    title: str\n",
    "    snippet: str\n",
    "    link: str\n",
    "\n",
    "class AgentState(BaseModel):\n",
    "    messages: List[Union[HumanMessage, AIMessage, SystemMessage]] = Field(description=\"The chat history\")\n",
    "    search_results: List[SearchResult] = Field(default_factory=list, description=\"The results from the web search\")\n",
    "    optimized_query: Optional[str] = Field(default=None, description=\"The LLM-optimized search query\")\n",
    "    \n",
    "    class Config:\n",
    "        arbitrary_types_allowed = True"
   ]
  },
  {
   "cell_type": "code",
   "execution_count": null,
   "id": "06efa8ea",
   "metadata": {},
   "outputs": [],
   "source": [
    "llm = ChatGoogleGenerativeAI(model=\"gemini-2.0-flash\", temperature=0.7)\n",
    "search_engine = GoogleSearchAPIWrapper()"
   ]
  },
  {
   "cell_type": "code",
   "execution_count": null,
   "id": "1cdf7914",
   "metadata": {},
   "outputs": [],
   "source": [
    "def analyze_query(state: AgentState):\n",
    "    print(\"[ANALYZE] Optimizing user query…\")\n",
    "    user_query = next((m.content for m in reversed(state.messages) if isinstance(m, HumanMessage)), \"\")\n",
    "    prompt = ChatPromptTemplate.from_messages([\n",
    "        (\"system\", \"You rewrite user queries into high-recall web search queries. Today's date is 2025-08-27. Preserve key entities and constraints (dates, names, locations). Add helpful synonyms if useful. Return ONLY the optimized query with no quotes or extra text.\"),\n",
    "        (\"human\", \"Optimize: {q}\")\n",
    "    ])\n",
    "    q = llm.invoke(prompt.format_messages(q=user_query)).content.strip().replace('\\\"','')\n",
    "    return {\"optimized_query\": q}"
   ]
  },
  {
   "cell_type": "code",
   "execution_count": null,
   "id": "2cdbed53",
   "metadata": {},
   "outputs": [],
   "source": [
    "def perform_search(state: AgentState):\n",
    "    print(\"[SEARCH] Running web search…\")\n",
    "    query = state.optimized_query or next((m.content for m in reversed(state.messages) if isinstance(m, HumanMessage)), \"\")\n",
    "    try:\n",
    "        raw = search_engine.results(query, num_results=5)\n",
    "    except Exception:\n",
    "        raw = [{\"title\":\"Search unavailable\",\"snippet\":f\"Could not search: {query}\",\"link\":\"https://example.com\"}]\n",
    "    results = [SearchResult(id=i+1,title=r.get('title','No title'),snippet=r.get('snippet',r.get('description','No content')),link=r.get('link',r.get('url','No link'))) for i,r in enumerate(raw)]\n",
    "    return {\"search_results\": results}"
   ]
  },
  {
   "cell_type": "code",
   "execution_count": null,
   "id": "51c73195",
   "metadata": {},
   "outputs": [],
   "source": [
    "def process_results(state: AgentState):\n",
    "    print(\"[PROCESS] Synthesizing final answer…\")\n",
    "    user_query = next((m.content for m in state.messages if isinstance(m, HumanMessage)), \"Unknown query\")\n",
    "    if state.search_results:\n",
    "        blocks = []\n",
    "        for r in state.search_results:\n",
    "            blocks.append(f\"Result {r.id} | {r.title}\\n{r.snippet}\\nSource: {r.link}\")\n",
    "        results_block = \"\\n\".join(blocks)\n",
    "    else:\n",
    "        results_block = \"No search results available.\"\n",
    "    prompt = ChatPromptTemplate.from_messages([\n",
    "        (\"system\", \"You have to use the provided search results to answer. Be concise and precise. Cite sources (URLs) inline. If evidence is weak, missing, or conflicting, say so and avoid speculation.\"),\n",
    "        (\"human\", \"Query: {q}\\n\\nResults:\\n{res}\")\n",
    "    ])\n",
    "    ans = llm.invoke(prompt.format_messages(q=user_query, res=results_block)).content.strip()\n",
    "    return {\"messages\": [AIMessage(content=ans)]}"
   ]
  },
  {
   "cell_type": "code",
   "execution_count": null,
   "id": "1955f045",
   "metadata": {},
   "outputs": [],
   "source": [
    "def route_to_search(state: AgentState) -> Literal['search']:\n",
    "    return 'search'\n",
    "def is_done(state: AgentState) -> Literal['end']:\n",
    "    return 'end'"
   ]
  },
  {
   "cell_type": "code",
   "execution_count": null,
   "id": "67b0de71",
   "metadata": {},
   "outputs": [],
   "source": [
    "workflow_v2 = StateGraph(AgentState)\n",
    "workflow_v2.add_node('analyze', analyze_query)\n",
    "workflow_v2.add_node('search', perform_search)\n",
    "workflow_v2.add_node('process', process_results)\n",
    "\n",
    "\n",
    "workflow_v2.add_edge('process',END)\n",
    "agent_v2 = workflow_v2.compile()"
   ]
  },
  {
   "cell_type": "code",
   "execution_count": null,
   "id": "09cf1865",
   "metadata": {},
   "outputs": [],
   "source": [
    "# Test v2\n",
    "query = 'Who were in 2025 NBA playoffs?'\n",
    "state = AgentState(messages=[HumanMessage(content=query)])\n",
    "final_state = agent_v2.invoke(state)\n",
    "\n"
   ]
  },
  {
   "cell_type": "code",
   "execution_count": null,
   "id": "881d26d4",
   "metadata": {},
   "outputs": [],
   "source": [
    "for m in final_state['messages']:\n",
    "    if isinstance(m, HumanMessage):\n",
    "        print(f'Human: {m.content}')\n",
    "    elif isinstance(m, AIMessage):\n",
    "        print(f'AI: {m.content}')"
   ]
  },
  {
   "cell_type": "code",
   "execution_count": null,
   "id": "d06aa31a",
   "metadata": {},
   "outputs": [],
   "source": [
    "final_state"
   ]
  },
  {
   "cell_type": "code",
   "execution_count": null,
   "id": "99309324",
   "metadata": {},
   "outputs": [],
   "source": [
    "\n"
   ]
  }
 ],
 "metadata": {
  "kernelspec": {
   "display_name": "venv",
   "language": "python",
   "name": "python3"
  },
  "language_info": {
   "codemirror_mode": {
    "name": "ipython",
    "version": 3
   },
   "file_extension": ".py",
   "mimetype": "text/x-python",
   "name": "python",
   "nbconvert_exporter": "python",
   "pygments_lexer": "ipython3",
   "version": "3.12.4"
  }
 },
 "nbformat": 4,
 "nbformat_minor": 5
}
